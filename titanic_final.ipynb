{
 "cells": [
  {
   "cell_type": "markdown",
   "metadata": {},
   "source": [
    "# Kaggle Titanic Challenge\n",
    "#### Alphonse Doutriaux - March 2018"
   ]
  },
  {
   "cell_type": "markdown",
   "metadata": {},
   "source": [
    "## 0. Preliminaries"
   ]
  },
  {
   "cell_type": "markdown",
   "metadata": {},
   "source": [
    "### 0.1. Libraries"
   ]
  },
  {
   "cell_type": "code",
   "execution_count": 1,
   "metadata": {},
   "outputs": [],
   "source": [
    "import pandas as pd\n",
    "import numpy as np\n",
    "import re\n",
    "import datetime\n",
    "import warnings\n",
    "\n",
    "from sklearn.model_selection import GridSearchCV, cross_val_score, train_test_split\n",
    "from sklearn.ensemble import RandomForestClassifier\n",
    "from sklearn.linear_model import LogisticRegression\n",
    "from datetime import date, datetime\n",
    "from xgboost import XGBClassifier\n",
    "warnings.filterwarnings('ignore')"
   ]
  },
  {
   "cell_type": "markdown",
   "metadata": {},
   "source": [
    "### 0.2. Data"
   ]
  },
  {
   "cell_type": "code",
   "execution_count": 2,
   "metadata": {},
   "outputs": [],
   "source": [
    "train = pd.read_csv(\"./data/train.csv\", index_col=0)\n",
    "test = pd.read_csv(\"./data/test.csv\", index_col=0)"
   ]
  },
  {
   "cell_type": "code",
   "execution_count": 3,
   "metadata": {},
   "outputs": [],
   "source": [
    "data = pd.concat([train, test])"
   ]
  },
  {
   "cell_type": "markdown",
   "metadata": {},
   "source": [
    "## 1. Preprocessing"
   ]
  },
  {
   "cell_type": "code",
   "execution_count": 4,
   "metadata": {},
   "outputs": [],
   "source": [
    "X = data.copy()\n",
    "\n",
    "y_train = train[['Survived']]\n",
    "X = X[['Pclass', 'Name', 'Cabin', 'Sex', 'Age', 'SibSp', 'Parch', 'Fare', 'Embarked']]"
   ]
  },
  {
   "cell_type": "markdown",
   "metadata": {},
   "source": [
    "### Feature extraction: from `Name` to `Title` using regular expressions"
   ]
  },
  {
   "cell_type": "code",
   "execution_count": 5,
   "metadata": {
    "scrolled": true
   },
   "outputs": [],
   "source": [
    "i=1\n",
    "for name in X['Name']:\n",
    "    title = re.findall(r\"[,][ ][A-Za-z]*\", name)[0][2:]\n",
    "    X.loc[i, 'Name'] = title\n",
    "    i=i+1\n",
    "X.rename(columns = {'Name':'Title'}, inplace = True)\n",
    "\n",
    "X['Title'] = X['Title'].replace(('Mme', 'Ms'), 'Mrs') \n",
    "X['Title'] = X['Title'].replace('Mlle', 'Miss') \n",
    "X['Title'] = X['Title'].replace(('Col', 'Major', 'Capt'), 'Military') \n",
    "X['Title'] = X['Title'].replace(('Dooley, Mr. Patrick', 'Jonkheer'), 'Mr')\n",
    "X['Title'] = X['Title'].replace('Don', 'Sir')\n",
    "X['Title'] = X['Title'].replace(('the', 'Dona'), 'Lady')"
   ]
  },
  {
   "cell_type": "markdown",
   "metadata": {},
   "source": [
    "### Handle missing values\n",
    "\n",
    "#### For the `age` and `fare` features, we replace `NaN` values with the median"
   ]
  },
  {
   "cell_type": "code",
   "execution_count": 6,
   "metadata": {},
   "outputs": [],
   "source": [
    "X['Age'].fillna(X['Age'].median(), inplace=True)\n",
    "X['Fare'].fillna(X['Fare'].median(), inplace=True)"
   ]
  },
  {
   "cell_type": "markdown",
   "metadata": {},
   "source": [
    "#### For the harbor (PassengerId 62 & 830, two women in the B28 cabin)\n",
    "A priori, we can not choose to replace missing values with `Q` as only two people from first class left from there. We input `S`, because 127 people from first class left from there, compared to 85 from `C`."
   ]
  },
  {
   "cell_type": "code",
   "execution_count": 7,
   "metadata": {},
   "outputs": [],
   "source": [
    "X['Embarked'].fillna('S', inplace=True)"
   ]
  },
  {
   "cell_type": "markdown",
   "metadata": {},
   "source": [
    "#### For the cabins\n",
    "\n",
    "My hypothesis is that the cabin number is caring information about the family and more importantly about the location on the ship (on which deck and at the bow/stern). Additionnal information showed that the lower cabin number are located at the front of the ship (source : http://s4.e-monsite.com/2011/05/15/759725893-pont-b-agrandi-jpg.jpg)\n",
    "\n",
    "We choose to split the cabin number into cabin letter (=deck) and cabin number (=location on the boat)"
   ]
  },
  {
   "cell_type": "code",
   "execution_count": 8,
   "metadata": {},
   "outputs": [],
   "source": [
    "X['Cabin'].fillna('Z0', inplace=True)\n",
    "\n",
    "# cleaning the improper cabin num ('D' & 'T')\n",
    "X.loc[340, 'Cabin'] = 'T0'\n",
    "X.loc[1001, 'Cabin'] = 'F0' \n",
    "X.loc[1193, 'Cabin'] = 'D0' \n",
    "X.loc[949, 'Cabin'] = 'G63' \n",
    "X.loc[1180, 'Cabin'] = 'E46' \n",
    "X.loc[1213, 'Cabin'] = 'E57' \n",
    "for i in (293, 328, 474):\n",
    "    X.loc[i, 'Cabin'] = 'D0' "
   ]
  },
  {
   "cell_type": "code",
   "execution_count": 9,
   "metadata": {
    "scrolled": true
   },
   "outputs": [],
   "source": [
    "i=1\n",
    "\n",
    "for cabin_id in X['Cabin']:\n",
    "    cabin_num = int(re.findall(r\"\\d+\", cabin_id)[0])\n",
    "    cabin_deck = re.findall(r\"[A-Z]\", cabin_id)[0]\n",
    "    X.loc[i, 'CabinNum'] = cabin_num\n",
    "    X.loc[i, 'CabinDeck'] = cabin_deck\n",
    "    i=i+1\n",
    "    \n",
    "X = X.drop(['Cabin'], axis=1)"
   ]
  },
  {
   "cell_type": "markdown",
   "metadata": {},
   "source": [
    "We transform alphabetical information (about the deck) into numerical information. It seems that deck `A` to `G` correspond to decks 1 to 7. `T` decl is the highest deck: it is treated as `A`"
   ]
  },
  {
   "cell_type": "code",
   "execution_count": 10,
   "metadata": {
    "scrolled": true
   },
   "outputs": [],
   "source": [
    "X['CabinDeck'] = X['CabinDeck'].replace(['T', 'A', 'B', 'C', 'D', 'E', 'F', 'G', 'Z'],[7,7,6,5,4,3,2,1, np.NaN])\n",
    "X['CabinDeck'] = X['CabinDeck'].fillna(X['CabinDeck'].median())"
   ]
  },
  {
   "cell_type": "markdown",
   "metadata": {},
   "source": [
    "Missing values in the `CabinNum` column are replace with the median of the column"
   ]
  },
  {
   "cell_type": "code",
   "execution_count": 11,
   "metadata": {},
   "outputs": [],
   "source": [
    "X['CabinNum'] = X['CabinNum'].replace(0, np.NaN)\n",
    "X['CabinNum'].fillna(X['CabinNum'].median(), inplace=True)"
   ]
  },
  {
   "cell_type": "markdown",
   "metadata": {},
   "source": [
    "### One hot encoding"
   ]
  },
  {
   "cell_type": "code",
   "execution_count": 12,
   "metadata": {
    "scrolled": true
   },
   "outputs": [],
   "source": [
    "columns_to_encode = ['Title', 'Sex', 'Embarked']\n",
    "X = pd.get_dummies(X, columns=columns_to_encode, prefix=columns_to_encode)"
   ]
  },
  {
   "cell_type": "markdown",
   "metadata": {},
   "source": [
    "### FamilySize & IsChild"
   ]
  },
  {
   "cell_type": "code",
   "execution_count": 13,
   "metadata": {},
   "outputs": [],
   "source": [
    "X['FamilySize'] = X['SibSp'] + X['Parch'] + 1\n",
    "X = X.drop(['Parch', 'SibSp'], axis=1)"
   ]
  },
  {
   "cell_type": "markdown",
   "metadata": {},
   "source": [
    "### Sex x Age column\n",
    "\n",
    "Wikipedia article about the *Titanic Shrinkage* says that the survival rate for men is strongly dependant on the class"
   ]
  },
  {
   "cell_type": "code",
   "execution_count": 14,
   "metadata": {},
   "outputs": [],
   "source": [
    "X['FirstClassMale'] = pd.Series(0, index=X.index)\n",
    "X['SecondClassMale'] = pd.Series(0, index=X.index)\n",
    "X['ThirdClassMale'] = pd.Series(0, index=X.index)"
   ]
  },
  {
   "cell_type": "code",
   "execution_count": 15,
   "metadata": {},
   "outputs": [],
   "source": [
    "i=1\n",
    "for passenger in X.index:\n",
    "    if i in X[X['Pclass'] == 1][X['Sex_male']==1].index.tolist():\n",
    "        X.loc[i, 'FirstClassMale'] = 1\n",
    "    elif i in X[X['Pclass'] == 2][X['Sex_male']==1].index.tolist():\n",
    "        X.loc[i, 'SecondClassMale'] = 1\n",
    "    elif i in X[X['Pclass'] == 3][X['Sex_male']==1].index.tolist():\n",
    "        X.loc[i, 'ThirdClassMale'] = 1\n",
    "    i += 1"
   ]
  },
  {
   "cell_type": "markdown",
   "metadata": {},
   "source": [
    "### Train / test split"
   ]
  },
  {
   "cell_type": "code",
   "execution_count": 16,
   "metadata": {},
   "outputs": [],
   "source": [
    "X_train = X[:len(train)]"
   ]
  },
  {
   "cell_type": "markdown",
   "metadata": {},
   "source": [
    "## 2. XGBoost\n",
    "* Hyperparameter tuning"
   ]
  },
  {
   "cell_type": "code",
   "execution_count": 17,
   "metadata": {},
   "outputs": [
    {
     "name": "stdout",
     "output_type": "stream",
     "text": [
      "Best R2 score using XGBoost: 84.40%\n",
      "{'colsample_bytree': 0.6000000000000001, 'gamma': 0, 'learning_rate': 0.3, 'max_depth': 9, 'n_estimators': 20}\n"
     ]
    }
   ],
   "source": [
    "# this script takes circa. 20s\n",
    "\n",
    "n_estimators = [20, 100, 1000]\n",
    "learning_rate = [0.1, 0.3, 0.5]\n",
    "gamma = [0]\n",
    "max_depth = [5, 7, 9]\n",
    "colsample_bytree = np.arange(0.2, 1, 0.2)\n",
    "\n",
    "param_grid_xgb = dict(n_estimators=n_estimators, learning_rate=learning_rate, gamma=gamma, max_depth=max_depth, colsample_bytree=colsample_bytree)\n",
    "\n",
    "xgb_gs = GridSearchCV(XGBClassifier(), param_grid=param_grid_xgb, n_jobs=-1)\n",
    "grid_result_xgb = xgb_gs.fit(X_train,y_train)\n",
    "\n",
    "print(\"Best R2 score using XGBoost: {:.2%}\".format(xgb_gs.best_score_))\n",
    "print(xgb_gs.best_params_)"
   ]
  },
  {
   "cell_type": "markdown",
   "metadata": {},
   "source": [
    "* Fit and cross validation"
   ]
  },
  {
   "cell_type": "code",
   "execution_count": 18,
   "metadata": {},
   "outputs": [],
   "source": [
    "xgb = XGBClassifier(n_estimators=xgb_gs.best_params_['n_estimators'],\n",
    "                  learning_rate=xgb_gs.best_params_['learning_rate'],\n",
    "                  gamma=xgb_gs.best_params_['gamma'],\n",
    "                  max_depth=xgb_gs.best_params_['max_depth'],\n",
    "                  colsample_bytree=xgb_gs.best_params_['colsample_bytree']\n",
    "                  )"
   ]
  },
  {
   "cell_type": "code",
   "execution_count": 19,
   "metadata": {},
   "outputs": [
    {
     "name": "stdout",
     "output_type": "stream",
     "text": [
      "XGB Average accuracy: 84.40%\n",
      "Interval: [ 0.7943 ; 0.8937 ]\n"
     ]
    }
   ],
   "source": [
    "xgb_scores = cross_val_score(xgb, X_train, y_train, cv=3, scoring=\"accuracy\", n_jobs=-1)\n",
    "\n",
    "print(\"XGB Average accuracy: {:.2%}\".format(xgb_scores.mean()))\n",
    "print(\"Interval: [\", round(xgb_scores.mean()-3*xgb_scores.std(),4), \";\", round(xgb_scores.mean()+3*xgb_scores.std(),4),\"]\")"
   ]
  },
  {
   "cell_type": "markdown",
   "metadata": {},
   "source": [
    "## 4. Predictions on testset"
   ]
  },
  {
   "cell_type": "code",
   "execution_count": 20,
   "metadata": {},
   "outputs": [
    {
     "data": {
      "text/plain": [
       "XGBClassifier(base_score=0.5, booster='gbtree', colsample_bylevel=1,\n",
       "       colsample_bytree=0.6000000000000001, gamma=0, learning_rate=0.3,\n",
       "       max_delta_step=0, max_depth=9, min_child_weight=1, missing=None,\n",
       "       n_estimators=20, n_jobs=1, nthread=None,\n",
       "       objective='binary:logistic', random_state=0, reg_alpha=0,\n",
       "       reg_lambda=1, scale_pos_weight=1, seed=None, silent=True,\n",
       "       subsample=1)"
      ]
     },
     "execution_count": 20,
     "metadata": {},
     "output_type": "execute_result"
    }
   ],
   "source": [
    "xgb.fit(X_train, y_train)"
   ]
  },
  {
   "cell_type": "code",
   "execution_count": 21,
   "metadata": {},
   "outputs": [],
   "source": [
    "test = X[891:]"
   ]
  },
  {
   "cell_type": "code",
   "execution_count": 23,
   "metadata": {},
   "outputs": [],
   "source": [
    "preds = xgb.predict(test)"
   ]
  },
  {
   "cell_type": "code",
   "execution_count": 24,
   "metadata": {},
   "outputs": [],
   "source": [
    "preds = pd.DataFrame({\"Survived\":preds}, index=test.index)\n",
    "preds.Survived = preds.Survived.astype(int)"
   ]
  },
  {
   "cell_type": "markdown",
   "metadata": {},
   "source": [
    "### Kaggle submission file preparation"
   ]
  },
  {
   "cell_type": "code",
   "execution_count": 25,
   "metadata": {},
   "outputs": [],
   "source": [
    "preds.to_csv(path_or_buf= './submission_files/preds_' + datetime.now().strftime(\"%d%m%Y-%H%M%S\") + '.csv')"
   ]
  },
  {
   "cell_type": "code",
   "execution_count": null,
   "metadata": {},
   "outputs": [],
   "source": []
  }
 ],
 "metadata": {
  "kernelspec": {
   "display_name": "Python 3",
   "language": "python",
   "name": "python3"
  },
  "language_info": {
   "codemirror_mode": {
    "name": "ipython",
    "version": 3
   },
   "file_extension": ".py",
   "mimetype": "text/x-python",
   "name": "python",
   "nbconvert_exporter": "python",
   "pygments_lexer": "ipython3",
   "version": "3.6.3"
  }
 },
 "nbformat": 4,
 "nbformat_minor": 2
}
